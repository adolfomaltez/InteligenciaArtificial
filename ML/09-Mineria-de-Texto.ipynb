{
 "cells": [
  {
   "cell_type": "markdown",
   "metadata": {},
   "source": [
    "# Algoritmo de Machine Learging: Mineria de Texto"
   ]
  },
  {
   "cell_type": "code",
   "execution_count": null,
   "metadata": {},
   "outputs": [],
   "source": [
    "# Paso 1: Importar Librerias\n",
    "import os\n",
    "import tarfile\n",
    "import requests\n",
    "from sklearn.datasets import load_files\n",
    "from sklearn.feature_extraction.text import CountVectorizer, TfidfTransformer\n",
    "from sklearn.model_selection import train_test_split\n",
    "from sklearn.naive_bayes import MultinomialNB\n",
    "from sklearn.pipeline import Pipeline\n",
    "from sklearn import metrics\n",
    "import nltk\n",
    "nltk.download('stopwords')\n",
    "from nltk.corpus import stopwords"
   ]
  },
  {
   "cell_type": "code",
   "execution_count": null,
   "metadata": {},
   "outputs": [],
   "source": [
    "# Paso 2: Descargar y descomprimir el dataset IMDB\n",
    "# URL del dataset IMDB\n",
    "url = 'http://ai.stanford.edu/~amaas/data/sentiment/aclImdb_v1.tar.gz'\n",
    "dataset_path = 'aclImdb_v1.tar.gz'\n",
    "extract_path = 'aclImdb'\n",
    "\n",
    "# Descargar el archivo\n",
    "response = requests.get(url, stream=True)\n",
    "with open(dataset_path, 'wb') as file:\n",
    "    file.write(response.raw.read())\n",
    "\n",
    "# Descomprimir el archivo\n",
    "with tarfile.open(dataset_path, 'r:gz') as tar:\n",
    "    tar.extractall(path=extract_path)"
   ]
  },
  {
   "cell_type": "code",
   "execution_count": null,
   "metadata": {},
   "outputs": [],
   "source": [
    "# Paso 3: Cargar y Prepocesar el Dataset IMDB\n",
    "# Cargar los datos de entrenamiento y prueba desde las carpetas\n",
    "data_folder_train = os.path.join(extract_path, 'aclImdb', 'train')\n",
    "data_folder_test = os.path.join(extract_path, 'aclImdb', 'test')\n",
    "\n",
    "train_data = load_files(data_folder_train, categories=['pos', 'neg'])\n",
    "test_data = load_files(data_folder_test, categories=['pos', 'neg'])\n",
    "\n",
    "# Extraer las características y etiquetas\n",
    "X_train, y_train = train_data.data, train_data.target\n",
    "X_test, y_test = test_data.data, test_data.target"
   ]
  },
  {
   "cell_type": "code",
   "execution_count": null,
   "metadata": {},
   "outputs": [],
   "source": [
    "# Paso 4: Construir el Modelo Naive Bayes con un Pipeline\n",
    "# Construir un pipeline que incluye la vectorización, transformación TF-IDF y el clasificador Naive Bayes\n",
    "text_clf = Pipeline([\n",
    "    ('vect', CountVectorizer(stop_words=stopwords.words('english'))),  # Convertir texto en una matriz de términos\n",
    "    ('tfidf', TfidfTransformer()),  # Convertir recuentos en frecuencias tf-idf\n",
    "    ('clf', MultinomialNB()),  # Clasificador Naive Bayes\n",
    "])\n",
    "\n",
    "# Entrenar el modelo con los datos de entrenamiento\n",
    "text_clf.fit(X_train, y_train)"
   ]
  },
  {
   "cell_type": "code",
   "execution_count": null,
   "metadata": {},
   "outputs": [],
   "source": [
    "# Paso 5: Evaluar el Modelo\n",
    "# Hacer predicciones en el conjunto de prueba\n",
    "y_pred = text_clf.predict(X_test)\n",
    "\n",
    "# Evaluar la precisión del modelo\n",
    "accuracy = metrics.accuracy_score(y_test, y_pred)\n",
    "print(f'Test accuracy: {accuracy:.2f}')\n",
    "\n",
    "# Mostrar un reporte de clasificación más detallado\n",
    "print(metrics.classification_report(y_test, y_pred, target_names=train_data.target_names))\n",
    "\n",
    "# Mostrar la matriz de confusión\n",
    "print(metrics.confusion_matrix(y_test, y_pred))"
   ]
  },
  {
   "cell_type": "code",
   "execution_count": null,
   "metadata": {},
   "outputs": [],
   "source": [
    "# Paso 6: Hacer predicciones con el Modelo\n",
    "# Ejemplo de cómo hacer predicciones con el modelo entrenado\n",
    "sample_reviews = [\n",
    "    \"This movie was fantastic!\",\n",
    "    \"Terrible movie.\"\n",
    "]\n",
    "\n",
    "predicted = text_clf.predict(sample_reviews)\n",
    "\n",
    "for review, category in zip(sample_reviews, predicted):\n",
    "    print(f'Review: {review}\\nPredicted Sentiment: {\"positive\" if category == 1 else \"negative\"}\\n')\n"
   ]
  }
 ],
 "metadata": {
  "kernelspec": {
   "display_name": "Python 3",
   "language": "python",
   "name": "python3"
  },
  "language_info": {
   "codemirror_mode": {
    "name": "ipython",
    "version": 3
   },
   "file_extension": ".py",
   "mimetype": "text/x-python",
   "name": "python",
   "nbconvert_exporter": "python",
   "pygments_lexer": "ipython3",
   "version": "3.11.2"
  }
 },
 "nbformat": 4,
 "nbformat_minor": 2
}

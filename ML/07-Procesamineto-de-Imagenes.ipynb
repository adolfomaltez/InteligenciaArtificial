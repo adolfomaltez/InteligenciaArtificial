{
 "cells": [
  {
   "cell_type": "markdown",
   "metadata": {},
   "source": [
    "# Algoritmo de Machine Learging: Procesamiento de Imagenes"
   ]
  },
  {
   "cell_type": "code",
   "execution_count": null,
   "metadata": {},
   "outputs": [],
   "source": [
    "# Paso 1: Importar Librerias\n",
    "import numpy as np\n",
    "import matplotlib.pyplot as plt\n",
    "from keras.datasets import cifar10\n",
    "from keras.models import Sequential\n",
    "from keras.layers import Conv2D, MaxPooling2D, Flatten, Dense, Dropout\n",
    "from keras.utils import to_categorical"
   ]
  },
  {
   "cell_type": "code",
   "execution_count": null,
   "metadata": {},
   "outputs": [],
   "source": [
    "# Paso 2: Cargar y Preprocesar el Dataset CIFAR-10\n",
    "(x_train, y_train), (x_test, y_test) = cifar10.load_data()\n",
    "\n",
    "# Normalizar los datos de entrada para que los valores estén entre 0 y 1\n",
    "x_train = x_train.astype('float32') / 255\n",
    "x_test = x_test.astype('float32') / 255\n",
    "\n",
    "# Convertir las etiquetas a formato categórico (one-hot encoding)\n",
    "y_train = to_categorical(y_train, 10)\n",
    "y_test = to_categorical(y_test, 10)"
   ]
  },
  {
   "cell_type": "code",
   "execution_count": null,
   "metadata": {},
   "outputs": [],
   "source": [
    "# Paso 3: Construir el Modelo de la Red Neuronal Convolucional\n",
    "# Definir el modelo\n",
    "model = Sequential()\n",
    "\n",
    "# Añadir la primera capa convolucional con 32 filtros, tamaño de kernel 3x3, y activación ReLU\n",
    "model.add(Conv2D(32, (3, 3), activation='relu', input_shape=(32, 32, 3)))\n",
    "\n",
    "# Añadir una capa de pooling para reducir el tamaño de las características\n",
    "model.add(MaxPooling2D((2, 2)))\n",
    "\n",
    "# Añadir la segunda capa convolucional con 64 filtros y activación ReLU\n",
    "model.add(Conv2D(64, (3, 3), activation='relu'))\n",
    "\n",
    "# Añadir otra capa de pooling\n",
    "model.add(MaxPooling2D((2, 2)))\n",
    "\n",
    "# Añadir una tercera capa convolucional con 128 filtros y activación ReLU\n",
    "model.add(Conv2D(128, (3, 3), activation='relu'))\n",
    "\n",
    "# Añadir una capa de pooling\n",
    "model.add(MaxPooling2D((2, 2)))\n",
    "\n",
    "# Aplanar las características para pasar a las capas completamente conectadas\n",
    "model.add(Flatten())\n",
    "\n",
    "# Añadir una capa densa con 128 neuronas y activación ReLU\n",
    "model.add(Dense(128, activation='relu'))\n",
    "\n",
    "# Añadir una capa de dropout para reducir el sobreajuste\n",
    "model.add(Dropout(0.5))\n",
    "\n",
    "# Añadir la capa de salida con 10 neuronas (una por cada categoría) y activación softmax\n",
    "model.add(Dense(10, activation='softmax'))"
   ]
  },
  {
   "cell_type": "code",
   "execution_count": null,
   "metadata": {},
   "outputs": [],
   "source": [
    "# Paso 4: Compilar el Modelo\n",
    "# Compilar el modelo con el optimizador Adam y la función de pérdida categorical_crossentropy\n",
    "model.compile(optimizer='adam', \n",
    "              loss='categorical_crossentropy', \n",
    "              metrics=['accuracy'])"
   ]
  },
  {
   "cell_type": "code",
   "execution_count": null,
   "metadata": {},
   "outputs": [],
   "source": [
    "# Paso 5: Entrenar el Modelo\n",
    "# Entrenar el modelo con los datos de entrenamiento\n",
    "model.fit(x_train, y_train, epochs=20, batch_size=64, validation_split=0.2)"
   ]
  },
  {
   "cell_type": "code",
   "execution_count": null,
   "metadata": {},
   "outputs": [],
   "source": [
    "# Paso 6: Evaluar el Modelo\n",
    "# Evaluar el modelo con los datos de prueba\n",
    "test_loss, test_acc = model.evaluate(x_test, y_test)\n",
    "print('Test accuracy:', test_acc)"
   ]
  },
  {
   "cell_type": "code",
   "execution_count": null,
   "metadata": {},
   "outputs": [],
   "source": [
    "# Paso 7: Predecir con el Modelo\n",
    "# Hacer predicciones con el modelo entrenado\n",
    "predictions = model.predict(x_test)\n",
    "\n",
    "# Mostrar la primera imagen del dataset de prueba y su predicción\n",
    "plt.imshow(x_test[0])\n",
    "plt.title(f'Predicted label: {np.argmax(predictions[0])}')\n",
    "plt.show()"
   ]
  }
 ],
 "metadata": {
  "language_info": {
   "name": "python"
  }
 },
 "nbformat": 4,
 "nbformat_minor": 2
}
